{
 "cells": [
  {
   "cell_type": "markdown",
   "metadata": {},
   "source": [
    "# Points of Interest (POIs): Collection, Retrieval, and Visualization\n",
    "\n",
    "Kevin Jiahua Du <br />\n",
    "12 April, 2018"
   ]
  },
  {
   "cell_type": "code",
   "execution_count": 1,
   "metadata": {},
   "outputs": [
    {
     "name": "stdout",
     "output_type": "stream",
     "text": [
      "Last Updated: 2020-07-23 18:06:51.493762\n"
     ]
    }
   ],
   "source": [
    "import datetime\n",
    "print('Last Updated: ' + str(datetime.datetime.now()))"
   ]
  },
  {
   "cell_type": "markdown",
   "metadata": {},
   "source": [
    "## Introduction\n",
    "\n",
    "This notebook collectes geo-taggged POIs in Australia from three online sources, retrieves neighbor POIs of a given location, and visualizes the retrieved POIs. Additional geo-related resources, tools, and libraries are listed at the end.\n",
    "\n",
    "- Holiday in Australia\n",
    "- GeoNames\n",
    "- OpenStreetMap\n",
    "- <del>TripAdvisor</del>\n",
    "\n",
    "**Note**: The last two sources also contain POIs from around the world."
   ]
  },
  {
   "cell_type": "code",
   "execution_count": 2,
   "metadata": {},
   "outputs": [],
   "source": [
    "import json\n",
    "import glob\n",
    "import pandas as pd\n",
    "import numpy as np\n",
    "import ast\n",
    "import math\n",
    "import re\n",
    "import sqlite3\n",
    "from tqdm import tqdm\n",
    "import swifter\n",
    "\n",
    "import requests\n",
    "from bs4 import BeautifulSoup\n",
    "\n",
    "from IPython.display import HTML, display\n",
    "\n",
    "PH = '_'"
   ]
  },
  {
   "cell_type": "markdown",
   "metadata": {},
   "source": [
    "## 1. Collecting POIs from Holiday in Australia\n",
    "\n",
    "[Holidays in Australia](https://www.australia.com/en/explore.html) introduces authority-recommended attractions within Australia. \n",
    "It provides a range of tour information such as places to/must go and things to/must do.\n",
    "\n",
    "To start with, you need to save the following GeoJSON files in the same folder named ```hia```.\n",
    "\n",
    "- To do\n",
    "    - [General](https://www.australia.com/content/dam/ta/mapbox/geojson/cat-do.geojson)\n",
    "    - [Sleep](https://www.australia.com/content/dam/ta/mapbox/geojson/cat-sleep.geojson)\n",
    "    - [Events](https://www.australia.com/content/dam/ta/mapbox/geojson/cat-events.geojson)\n",
    "    - [Eat](https://www.australia.com/content/dam/ta/mapbox/geojson/cat-eat.geojson)\n",
    "- Must do\n",
    "    - [General](https://www.australia.com/content/dam/ta/mapbox/geojson/cat-all-MUSTDOTA.geojson)\n",
    "    - [Sleep](https://www.australia.com/content/dam/ta/mapbox/geojson/cat-all-MUSTDOSLEEPTA.geojson)\n",
    "    - [Events](https://www.australia.com/content/dam/ta/mapbox/geojson/cat-all-MustDoEventsTA.geojson)\n",
    "    - [Eat](https://www.australia.com/content/dam/ta/mapbox/geojson/cat-all-MustdoEatTA.geojson)"
   ]
  },
  {
   "cell_type": "markdown",
   "metadata": {},
   "source": [
    "1. Merge all downloaded GeoJSON files into a data frame.\n",
    "1. Assign the ID, category and the 'Must' flag to each POI.\n",
    "1. Remove redundant POIs."
   ]
  },
  {
   "cell_type": "code",
   "execution_count": null,
   "metadata": {
    "scrolled": true
   },
   "outputs": [],
   "source": [
    "df = []\n",
    "for fn in glob.glob('hia/*.geojson'):\n",
    "    with open(fn, encoding='utf8') as f:\n",
    "        fn_lower = fn.lower()\n",
    "        cflag = PH\n",
    "        if 'do' in fn_lower:\n",
    "            cflag = 'DO'\n",
    "        elif 'eat' in fn_lower:\n",
    "            cflag = 'EAT'\n",
    "        elif 'sleep' in fn_lower:\n",
    "            cflag = 'SLEEP'\n",
    "        elif 'events' in fn_lower:\n",
    "            cflag = 'EVENT'\n",
    "        poi_jsons = json.loads(f.read())['features']\n",
    "        df.extend([\n",
    "            {'cate': cflag, 'pid': x['properties']['atdwProductId']}\n",
    "            # 'must': int('must' in fn_lower), \n",
    "            for x in poi_jsons\n",
    "        ])\n",
    "df = pd.DataFrame(df).drop_duplicates(subset='pid')\n",
    "df['json_txt'] = PH"
   ]
  },
  {
   "cell_type": "markdown",
   "metadata": {},
   "source": [
    "Gather details of individual attractions and then remove those without details."
   ]
  },
  {
   "cell_type": "code",
   "execution_count": null,
   "metadata": {},
   "outputs": [],
   "source": [
    "hia_url = 'https://www.australia.com/bin/australia/atdw/product.%s.json'\n",
    "\n",
    "json_txts = []\n",
    "for pid, txt in tqdm(zip(df['pid'], df['json_txt'])):\n",
    "    if txt == PH:\n",
    "        r = requests.get(hia_url % pid)\n",
    "        if r.status_code == 200:\n",
    "            # successful\n",
    "            txt = r.json()\n",
    "        else:\n",
    "            # failed\n",
    "            txt = PH\n",
    "    # else: cached\n",
    "    json_txts.append(txt)\n",
    "df['json_txt'] = json_txts\n",
    "\n",
    "df.to_csv('hia/holiday_in_au.csv', header=True, index=False)"
   ]
  },
  {
   "cell_type": "markdown",
   "metadata": {},
   "source": [
    "<!-- Fields shared across all POI records:\n",
    "- address, allTypeIds, atdwProdId, currency, description, detailsUnavailable, disabledAccess, displayActivitiesOnFrontTile, displayCuisinesOnFrontTile, displayExperiencesOnFrontTile, displayTypesOnExpanded, displayTypesOnFrontTile, dreamTripId, geoCoordinates, imagePath, localAddress, location, media, productPagePath, productPixelURL, productShortDescription, state, title, typeIds, types. -->\n",
    "\n",
    "Extracts useful attributes from the JSON strings and export the POIs."
   ]
  },
  {
   "cell_type": "code",
   "execution_count": null,
   "metadata": {
    "scrolled": false
   },
   "outputs": [],
   "source": [
    "FIELDS = [\n",
    "    'address', 'state', 'location', 'localAddress', 'title', \n",
    "    'description', 'allTypeIds', 'types', \n",
    "]\n",
    "\n",
    "def parse_dict(j_str):\n",
    "    json_dict = ast.literal_eval(j_str)\n",
    "    # 'geoCoordinates' originally contains 'latitude' and 'longitude'\n",
    "    row = json_dict['geoCoordinates']\n",
    "    for field in FIELDS:\n",
    "        row[field] = json_dict[field]\n",
    "    return row\n",
    "\n",
    "df = pd.read_csv('hia/holiday_in_au.csv')\n",
    "df = df[df['json_txt']!=PH]\n",
    "json_df = df['json_txt'].swifter.apply(parse_dict)\n",
    "json_df = pd.DataFrame(json_df.tolist())\n",
    "df = pd.concat([df, json_df], axis=1, sort=False)\n",
    "df = df.drop('json_txt', axis=1)\n",
    "df.to_csv('hia/hia_pois.csv', header=True, index=False)"
   ]
  },
  {
   "cell_type": "markdown",
   "metadata": {},
   "source": [
    "Below shows an instance."
   ]
  },
  {
   "cell_type": "code",
   "execution_count": null,
   "metadata": {
    "scrolled": false
   },
   "outputs": [],
   "source": [
    "hia_df = pd.read_csv('hia/hia_pois.csv').drop('must', axis=1)\n",
    "hia_df.rename(columns={'latitude':'lat', 'longitude':'lng'}, inplace=True)\n",
    "print(len(hia_df))\n",
    "hia_df.head(5)"
   ]
  },
  {
   "cell_type": "code",
   "execution_count": null,
   "metadata": {},
   "outputs": [],
   "source": []
  },
  {
   "cell_type": "code",
   "execution_count": null,
   "metadata": {},
   "outputs": [],
   "source": []
  },
  {
   "cell_type": "markdown",
   "metadata": {},
   "source": [
    "## 2. Collecting POIs from GeoNames\n",
    "\n",
    "[GeoNames](http://www.geonames.org/) is a free geographical database that contains [gazetteer data](http://download.geonames.org/export/dump/) of over 11 million placenames worldwide. \n",
    "It also offers other useful resources, including [postal code data](http://download.geonames.org/export/zip/) and country boundaries (in both [plain text](http://download.geonames.org/export/dump/shapes_all_low.zip) and [GeoJSON](http://download.geonames.org/export/dump/shapes_simplified_low.json.zip)).\n",
    "\n",
    "\n",
    "To start with, you need to save the following GeoJSON files in the same folder named ```geo```.\n",
    "- [The GeoNames core](http://download.geonames.org/export/dump/AU.zip)\n",
    "    - You need to decompress the zip file and then insert the header at the beginning of the decompressed file.\n",
    "        - ```geonameid, name, asciiname, alternatenames, latitude, longitude, feature_class, feature_code, country_code, cc2, admin1_code, admin2_code, admin3_code, admin4_code, population, elevation, dem, timezone, modification_date```\n",
    "- [Administrative division code - level 1](http://download.geonames.org/export/dump/admin1CodesASCII.txt)\n",
    "    - You need to insert the header at the beginning of the downloaded file.\n",
    "        - ```code, name, name_ascii, geonameId```\n",
    "- [Administrative division code - level 2](http://download.geonames.org/export/dump/admin2Codes.txt)\n",
    "     - You need to insert the header at the beginning of the downloaded file.\n",
    "        - ```code, name, name_ascii, geonameId```\n",
    "\n",
    "<!-- - [Feature code](http://download.geonames.org/export/dump/featureCodes_en.txt) [optional]\n",
    "    - You need to insert the header at the beginning of the downloaded file.\n",
    "        - ```code, value, desc``` -->"
   ]
  },
  {
   "cell_type": "markdown",
   "metadata": {},
   "source": [
    "Keeps only useful attributes and rename the columns. Please see the [README](http://download.geonames.org/export/dump/readme.txt) for more infomation."
   ]
  },
  {
   "cell_type": "code",
   "execution_count": null,
   "metadata": {
    "scrolled": true
   },
   "outputs": [],
   "source": [
    "df = pd.read_csv('geo/AU.txt', delimiter='\\t')\n",
    "df['gclass'] = [\n",
    "    str(cls) + '.' + str(code) \n",
    "    for cls, code in zip(df.feature_class, df.feature_code)\n",
    "]\n",
    "df = df[[\n",
    "    'geonameid', 'name', 'latitude', 'longitude', \n",
    "    'admin1_code', 'admin2_code', \n",
    "    'feature_class', 'feature_code', 'gclass',\n",
    "]]\n",
    "df.columns=[\n",
    "    'gid', 'name', 'lat', 'lng', \n",
    "    'admin1', 'admin2', \n",
    "    'gclass1', 'gclass2', 'gclass',\n",
    "]\n",
    "df.drop_duplicates(subset='gid', inplace=True)"
   ]
  },
  {
   "cell_type": "markdown",
   "metadata": {},
   "source": [
    "Convert administrative division code (both level 1 and 2) into names and export the POIs."
   ]
  },
  {
   "cell_type": "code",
   "execution_count": null,
   "metadata": {},
   "outputs": [],
   "source": [
    "admin1_dict = pd.read_csv('geo/admin1CodesASCII.txt', delimiter='\\t')\n",
    "admin1_dict = admin1_dict[admin1_dict.code.str.startswith('AU')]\n",
    "admin1_dict = dict(zip(admin1_dict.code, admin1_dict.name))\n",
    "\n",
    "admin2_dict = pd.read_csv('geo/admin2Codes.txt', delimiter='\\t')\n",
    "admin2_dict = admin2_dict[admin2_dict.code.str.startswith('AU')]\n",
    "admin2_dict = dict(zip(admin2_dict.code, admin2_dict.name))"
   ]
  },
  {
   "cell_type": "code",
   "execution_count": null,
   "metadata": {},
   "outputs": [],
   "source": [
    "def get_admin_names(row):\n",
    "    a1, a2 = row.admin1, row.admin2\n",
    "    n1, n2 = PH, PH\n",
    "    \n",
    "    if not math.isnan(a1):\n",
    "        # admin level 1\n",
    "        pat = 'AU.0'+str(int(a1))\n",
    "        if pat in admin1_dict:\n",
    "            n1 = admin1_dict[pat]\n",
    "        # admin level 2\n",
    "        try:\n",
    "            pat+='.'+str(int(a2))\n",
    "            if pat in admin2_dict:\n",
    "                n2 = admin2_dict[pat]\n",
    "        except:\n",
    "            pass\n",
    "    return  n1, n2\n",
    "\n",
    "df['admin1'], df['admin2'] = zip(*df.apply(get_admin_names, axis=1))\n",
    "df.to_csv('geo/geo_pois.csv', header=True, index=False)"
   ]
  },
  {
   "cell_type": "markdown",
   "metadata": {},
   "source": [
    "Below shows an instance."
   ]
  },
  {
   "cell_type": "code",
   "execution_count": null,
   "metadata": {
    "scrolled": true
   },
   "outputs": [],
   "source": [
    "geo_df = pd.read_csv('geo/geo_pois.csv')\n",
    "print(len(geo_df))\n",
    "geo_df.head(5)"
   ]
  },
  {
   "cell_type": "code",
   "execution_count": null,
   "metadata": {},
   "outputs": [],
   "source": []
  },
  {
   "cell_type": "code",
   "execution_count": null,
   "metadata": {},
   "outputs": [],
   "source": []
  },
  {
   "cell_type": "markdown",
   "metadata": {},
   "source": [
    "## 3. Collecting POIs from OpenStreetMap\n",
    "\n",
    "[OpenStreetMap](https://www.openstreetmap.org) (OSM) contributes and maintains data about roads, trails, cafés, railway stations, etc. all over the world.\n",
    "\n",
    "To start with, you need to save the following OSM archives in the same folder named ```osm```.\n",
    "\n",
    "- Both [BBBike](https://download.bbbike.org/osm/bbbike/) and [Geofabrik](http://download.geofabrik.de/) allow users to specify volunteered POIs within a region. Choose files ending with ``.osm.pbf`` where possible.\n",
    "    - [Australia archive](http://download.geofabrik.de/australia-oceania.html)\n",
    "    - [Melbourne archive](https://download.bbbike.org/osm/bbbike/Melbourne/)\n",
    "\n",
    "Once finish downloading the OSM archives, you need to go to [MorbZ's Github portal](https://github.com/MorbZ/OsmPoisPbf) and download the OSM file extractor. Check ``readme.md`` for detailed instructions.\n",
    "- [The POI extractor](https://github.com/MorbZ/OsmPoisPbf/releases)\n",
    "- [The POI type mapping](https://github.com/MorbZ/OsmPoisPbf/blob/master/doc/poi_types.csv)\n",
    "\n",
    "\n",
    "\n",
    "Extract POI entities and convert POI type code into names.\n",
    "<!--- ```java -Xmx4g -jar osmpois.jar planet.osm.pbf``` --->"
   ]
  },
  {
   "cell_type": "code",
   "execution_count": null,
   "metadata": {},
   "outputs": [],
   "source": [
    "# mapping: poi_type_code -> poi_type_name\n",
    "code_type_pair = pd.read_csv('osm/poi_types.csv')\n",
    "code_type_pair = code_type_pair[~code_type_pair['POI TYPE'].isnull()]\n",
    "code_type_pair = dict(zip(code_type_pair['CODE'], code_type_pair['POI TYPE']))\n",
    "\n",
    "def open_openstreetmap(fn):\n",
    "    tmp_pois = pd.read_csv(fn, delimiter='|', \n",
    "        names=['poi_type_id', 'poi_id', 'lat', 'lng', 'poi_name']\n",
    "    )\n",
    "    tmp_pois['poi_subtype'] = tmp_pois['poi_type_id'].apply(lambda x: code_type_pair[str(x)])\n",
    "    tmp_pois['poi_type'] = tmp_pois['poi_subtype'].apply(lambda x: x[:x.index('_')])\n",
    "    return tmp_pois.drop_duplicates()\n",
    "\n",
    "df = open_openstreetmap('osm/au_pois.csv')"
   ]
  },
  {
   "cell_type": "markdown",
   "metadata": {},
   "source": [
    "Remove POIs outside a specified bounding box (optional) and export the rest."
   ]
  },
  {
   "cell_type": "code",
   "execution_count": null,
   "metadata": {},
   "outputs": [],
   "source": [
    "# e.g., the boundary box (not the actual boundary) of Victoria with a slight offset\n",
    "# bbox = [-33-58/60, -39-10/60, 140+57/60, 150+1/60]\n",
    "# bbox = [bbox[0]+0.1, bbox[1]-0.1, bbox[2]-0.1, bbox[3]+0.1]\n",
    "# df = df[(df.lat>bbox[1]) & (df.lat<bbox[0]) & (df.lon>bbox[2]) & (df.lon<bbox[3])]\n",
    "\n",
    "df.to_csv('osm/osm_pois.csv', header=True, index=False)"
   ]
  },
  {
   "cell_type": "markdown",
   "metadata": {},
   "source": [
    "Below shows an instance."
   ]
  },
  {
   "cell_type": "code",
   "execution_count": 3,
   "metadata": {},
   "outputs": [
    {
     "name": "stdout",
     "output_type": "stream",
     "text": [
      "224947\n"
     ]
    },
    {
     "data": {
      "text/html": [
       "<div>\n",
       "<style scoped>\n",
       "    .dataframe tbody tr th:only-of-type {\n",
       "        vertical-align: middle;\n",
       "    }\n",
       "\n",
       "    .dataframe tbody tr th {\n",
       "        vertical-align: top;\n",
       "    }\n",
       "\n",
       "    .dataframe thead th {\n",
       "        text-align: right;\n",
       "    }\n",
       "</style>\n",
       "<table border=\"1\" class=\"dataframe\">\n",
       "  <thead>\n",
       "    <tr style=\"text-align: right;\">\n",
       "      <th></th>\n",
       "      <th>poi_type_id</th>\n",
       "      <th>poi_id</th>\n",
       "      <th>lat</th>\n",
       "      <th>lng</th>\n",
       "      <th>poi_name</th>\n",
       "      <th>poi_subtype</th>\n",
       "      <th>poi_type</th>\n",
       "    </tr>\n",
       "  </thead>\n",
       "  <tbody>\n",
       "    <tr>\n",
       "      <th>1</th>\n",
       "      <td>139</td>\n",
       "      <td>N17026283</td>\n",
       "      <td>-31.435607</td>\n",
       "      <td>152.823424</td>\n",
       "      <td>Cassegrain Winery</td>\n",
       "      <td>TOURIST_ATTRACTION</td>\n",
       "      <td>TOURIST</td>\n",
       "    </tr>\n",
       "    <tr>\n",
       "      <th>2</th>\n",
       "      <td>16</td>\n",
       "      <td>N17026830</td>\n",
       "      <td>-31.428795</td>\n",
       "      <td>152.909814</td>\n",
       "      <td>Court House</td>\n",
       "      <td>AMENITY_PUBLICBUILDING</td>\n",
       "      <td>AMENITY</td>\n",
       "    </tr>\n",
       "    <tr>\n",
       "      <th>3</th>\n",
       "      <td>139</td>\n",
       "      <td>N17027559</td>\n",
       "      <td>-31.443056</td>\n",
       "      <td>152.919524</td>\n",
       "      <td>Koala Hospital</td>\n",
       "      <td>TOURIST_ATTRACTION</td>\n",
       "      <td>TOURIST</td>\n",
       "    </tr>\n",
       "    <tr>\n",
       "      <th>4</th>\n",
       "      <td>105</td>\n",
       "      <td>N17027753</td>\n",
       "      <td>-31.477181</td>\n",
       "      <td>152.914608</td>\n",
       "      <td>Coles</td>\n",
       "      <td>SHOP_SUPERMARKET</td>\n",
       "      <td>SHOP</td>\n",
       "    </tr>\n",
       "    <tr>\n",
       "      <th>5</th>\n",
       "      <td>40</td>\n",
       "      <td>N17027848</td>\n",
       "      <td>-31.473039</td>\n",
       "      <td>152.929881</td>\n",
       "      <td>Public Reserve</td>\n",
       "      <td>LANDUSE_GRASS</td>\n",
       "      <td>LANDUSE</td>\n",
       "    </tr>\n",
       "  </tbody>\n",
       "</table>\n",
       "</div>"
      ],
      "text/plain": [
       "   poi_type_id     poi_id        lat         lng           poi_name  \\\n",
       "1          139  N17026283 -31.435607  152.823424  Cassegrain Winery   \n",
       "2           16  N17026830 -31.428795  152.909814        Court House   \n",
       "3          139  N17027559 -31.443056  152.919524     Koala Hospital   \n",
       "4          105  N17027753 -31.477181  152.914608              Coles   \n",
       "5           40  N17027848 -31.473039  152.929881     Public Reserve   \n",
       "\n",
       "              poi_subtype poi_type  \n",
       "1      TOURIST_ATTRACTION  TOURIST  \n",
       "2  AMENITY_PUBLICBUILDING  AMENITY  \n",
       "3      TOURIST_ATTRACTION  TOURIST  \n",
       "4        SHOP_SUPERMARKET     SHOP  \n",
       "5           LANDUSE_GRASS  LANDUSE  "
      ]
     },
     "execution_count": 3,
     "metadata": {},
     "output_type": "execute_result"
    }
   ],
   "source": [
    "osm_df = pd.read_csv('osm/osm_pois.csv')\n",
    "osm_df = osm_df[~osm_df['poi_type'].str.startswith('POI')]\n",
    "print(len(osm_df))\n",
    "osm_df.head(5)"
   ]
  },
  {
   "cell_type": "code",
   "execution_count": null,
   "metadata": {},
   "outputs": [],
   "source": []
  },
  {
   "cell_type": "code",
   "execution_count": null,
   "metadata": {},
   "outputs": [],
   "source": []
  },
  {
   "cell_type": "markdown",
   "metadata": {},
   "source": [
    "## 4. Retrieving and Visualizing POIs"
   ]
  },
  {
   "cell_type": "code",
   "execution_count": 4,
   "metadata": {},
   "outputs": [],
   "source": [
    "# check the [Precision] section on https://en.wikipedia.org/wiki/Decimal_degrees\n",
    "# calculate distance in kms between two geo coordinates  \n",
    "from sklearn.metrics.pairwise import haversine_distances\n",
    "from math import radians\n",
    "def get_distance(a, b, euclidean=False):\n",
    "    if euclidean:\n",
    "        return np.linalg.norm(np.asarray(a)-np.asarray(b))\n",
    "    else:\n",
    "        a_in_radians = [radians(_) for _ in a]\n",
    "        b_in_radians = [radians(_) for _ in b]\n",
    "        dist = haversine_distances([a_in_radians, b_in_radians])[-1][0]\n",
    "        return dist * 6371000/1000\n",
    "\n",
    "\n",
    "# get top k nearest POIs\n",
    "def get_neighbors(cur_loc, known_pois, within_km, top_k=5):\n",
    "    # within_km<0 means no distance restraints\n",
    "    # top_k<0 returns all results\n",
    "    ndf = known_pois.copy()\n",
    "    coords = np.concatenate([ndf[['lat']], ndf[['lng']]], axis=1)\n",
    "    ndf['dist'] = [get_distance(cur_loc, coord) for coord in coords]\n",
    "    if within_km > 0:\n",
    "        ndf = ndf[ndf['dist']<=within_km]\n",
    "    ndf = ndf.sort_values('dist', ascending=True)\n",
    "    if top_k > 0:\n",
    "        ndf = ndf.head(top_k)\n",
    "    return ndf"
   ]
  },
  {
   "cell_type": "markdown",
   "metadata": {},
   "source": [
    "As an example, below shows the 20 closest POIs to Melbourne (within a one-kilometer radius of the city) using the OpenStreetMap dataset and plots the POIs on a map. "
   ]
  },
  {
   "cell_type": "code",
   "execution_count": 5,
   "metadata": {
    "scrolled": false
   },
   "outputs": [
    {
     "data": {
      "text/html": [
       "<div>\n",
       "<style scoped>\n",
       "    .dataframe tbody tr th:only-of-type {\n",
       "        vertical-align: middle;\n",
       "    }\n",
       "\n",
       "    .dataframe tbody tr th {\n",
       "        vertical-align: top;\n",
       "    }\n",
       "\n",
       "    .dataframe thead th {\n",
       "        text-align: right;\n",
       "    }\n",
       "</style>\n",
       "<table border=\"1\" class=\"dataframe\">\n",
       "  <thead>\n",
       "    <tr style=\"text-align: right;\">\n",
       "      <th></th>\n",
       "      <th>poi_type_id</th>\n",
       "      <th>poi_id</th>\n",
       "      <th>lat</th>\n",
       "      <th>lng</th>\n",
       "      <th>poi_name</th>\n",
       "      <th>poi_subtype</th>\n",
       "      <th>poi_type</th>\n",
       "      <th>dist</th>\n",
       "    </tr>\n",
       "  </thead>\n",
       "  <tbody>\n",
       "    <tr>\n",
       "      <th>98007</th>\n",
       "      <td>25</td>\n",
       "      <td>N3472659754</td>\n",
       "      <td>-37.813982</td>\n",
       "      <td>144.963292</td>\n",
       "      <td>Federal Coffee Palace</td>\n",
       "      <td>FOOD_CAFE</td>\n",
       "      <td>FOOD</td>\n",
       "      <td>0.003192</td>\n",
       "    </tr>\n",
       "    <tr>\n",
       "      <th>51100</th>\n",
       "      <td>138</td>\n",
       "      <td>N2162178792</td>\n",
       "      <td>-37.814098</td>\n",
       "      <td>144.963428</td>\n",
       "      <td>The Public Purse</td>\n",
       "      <td>TOURIST_ART</td>\n",
       "      <td>TOURIST</td>\n",
       "      <td>0.014448</td>\n",
       "    </tr>\n",
       "    <tr>\n",
       "      <th>104733</th>\n",
       "      <td>168</td>\n",
       "      <td>N3945798969</td>\n",
       "      <td>-37.814174</td>\n",
       "      <td>144.963363</td>\n",
       "      <td>Stop 5: Bourke Street Mall, Elizabeth Street</td>\n",
       "      <td>TRANSPORT_TRAMSTOP</td>\n",
       "      <td>TRANSPORT</td>\n",
       "      <td>0.019713</td>\n",
       "    </tr>\n",
       "    <tr>\n",
       "      <th>51676</th>\n",
       "      <td>168</td>\n",
       "      <td>N2190619591</td>\n",
       "      <td>-37.813984</td>\n",
       "      <td>144.963064</td>\n",
       "      <td>Stop 3: Bourke Street Mall, Bourke Street</td>\n",
       "      <td>TRANSPORT_TRAMSTOP</td>\n",
       "      <td>TRANSPORT</td>\n",
       "      <td>0.022567</td>\n",
       "    </tr>\n",
       "    <tr>\n",
       "      <th>27202</th>\n",
       "      <td>75</td>\n",
       "      <td>N907778391</td>\n",
       "      <td>-37.813848</td>\n",
       "      <td>144.963106</td>\n",
       "      <td>Elizabeth Street/Bourke Street</td>\n",
       "      <td>SHOP_BICYCLE</td>\n",
       "      <td>SHOP</td>\n",
       "      <td>0.025280</td>\n",
       "    </tr>\n",
       "    <tr>\n",
       "      <th>73700</th>\n",
       "      <td>80</td>\n",
       "      <td>N2776401990</td>\n",
       "      <td>-37.813766</td>\n",
       "      <td>144.963342</td>\n",
       "      <td>H&amp;M</td>\n",
       "      <td>SHOP_CLOTHES</td>\n",
       "      <td>SHOP</td>\n",
       "      <td>0.026078</td>\n",
       "    </tr>\n",
       "    <tr>\n",
       "      <th>53243</th>\n",
       "      <td>88</td>\n",
       "      <td>N2265081590</td>\n",
       "      <td>-37.813921</td>\n",
       "      <td>144.963600</td>\n",
       "      <td>Flowers @ GPO</td>\n",
       "      <td>SHOP_FLORIST</td>\n",
       "      <td>SHOP</td>\n",
       "      <td>0.026118</td>\n",
       "    </tr>\n",
       "    <tr>\n",
       "      <th>104732</th>\n",
       "      <td>168</td>\n",
       "      <td>N3945798968</td>\n",
       "      <td>-37.814066</td>\n",
       "      <td>144.963633</td>\n",
       "      <td>Stop 5: Bourke Street Mall, Elizabeth Street</td>\n",
       "      <td>TRANSPORT_TRAMSTOP</td>\n",
       "      <td>TRANSPORT</td>\n",
       "      <td>0.028447</td>\n",
       "    </tr>\n",
       "    <tr>\n",
       "      <th>152016</th>\n",
       "      <td>29</td>\n",
       "      <td>N6344541343</td>\n",
       "      <td>-37.813748</td>\n",
       "      <td>144.963415</td>\n",
       "      <td>CA de VIN</td>\n",
       "      <td>FOOD_RESTAURANT</td>\n",
       "      <td>FOOD</td>\n",
       "      <td>0.029266</td>\n",
       "    </tr>\n",
       "    <tr>\n",
       "      <th>29793</th>\n",
       "      <td>80</td>\n",
       "      <td>N1058524474</td>\n",
       "      <td>-37.814320</td>\n",
       "      <td>144.963523</td>\n",
       "      <td>Bardot</td>\n",
       "      <td>SHOP_CLOTHES</td>\n",
       "      <td>SHOP</td>\n",
       "      <td>0.039743</td>\n",
       "    </tr>\n",
       "    <tr>\n",
       "      <th>23590</th>\n",
       "      <td>99</td>\n",
       "      <td>N664315209</td>\n",
       "      <td>-37.814360</td>\n",
       "      <td>144.963445</td>\n",
       "      <td>Optus</td>\n",
       "      <td>SHOP_PHONE</td>\n",
       "      <td>SHOP</td>\n",
       "      <td>0.041500</td>\n",
       "    </tr>\n",
       "    <tr>\n",
       "      <th>22055</th>\n",
       "      <td>46</td>\n",
       "      <td>N613313406</td>\n",
       "      <td>-37.814137</td>\n",
       "      <td>144.962877</td>\n",
       "      <td>Bank of Melbourne</td>\n",
       "      <td>MONEY_BANK</td>\n",
       "      <td>MONEY</td>\n",
       "      <td>0.041791</td>\n",
       "    </tr>\n",
       "    <tr>\n",
       "      <th>177351</th>\n",
       "      <td>105</td>\n",
       "      <td>W46854371</td>\n",
       "      <td>-37.813619</td>\n",
       "      <td>144.963279</td>\n",
       "      <td>Melbourne's GPO</td>\n",
       "      <td>SHOP_SUPERMARKET</td>\n",
       "      <td>SHOP</td>\n",
       "      <td>0.042563</td>\n",
       "    </tr>\n",
       "    <tr>\n",
       "      <th>106872</th>\n",
       "      <td>26</td>\n",
       "      <td>N4066101389</td>\n",
       "      <td>-37.813956</td>\n",
       "      <td>144.962814</td>\n",
       "      <td>Schnitz</td>\n",
       "      <td>FOOD_FASTFOOD</td>\n",
       "      <td>FOOD</td>\n",
       "      <td>0.044733</td>\n",
       "    </tr>\n",
       "    <tr>\n",
       "      <th>23581</th>\n",
       "      <td>80</td>\n",
       "      <td>N663937189</td>\n",
       "      <td>-37.814359</td>\n",
       "      <td>144.963559</td>\n",
       "      <td>Roger David</td>\n",
       "      <td>SHOP_CLOTHES</td>\n",
       "      <td>SHOP</td>\n",
       "      <td>0.045103</td>\n",
       "    </tr>\n",
       "    <tr>\n",
       "      <th>22056</th>\n",
       "      <td>30</td>\n",
       "      <td>N613315007</td>\n",
       "      <td>-37.814080</td>\n",
       "      <td>144.962813</td>\n",
       "      <td>Pacific Smiles Dental</td>\n",
       "      <td>HEALTH_DENTIST</td>\n",
       "      <td>HEALTH</td>\n",
       "      <td>0.045417</td>\n",
       "    </tr>\n",
       "    <tr>\n",
       "      <th>128202</th>\n",
       "      <td>34</td>\n",
       "      <td>N5130664932</td>\n",
       "      <td>-37.814376</td>\n",
       "      <td>144.963527</td>\n",
       "      <td>Chemist Warehouse</td>\n",
       "      <td>HEALTH_PHARMACY</td>\n",
       "      <td>HEALTH</td>\n",
       "      <td>0.045637</td>\n",
       "    </tr>\n",
       "    <tr>\n",
       "      <th>53361</th>\n",
       "      <td>80</td>\n",
       "      <td>N2268007249</td>\n",
       "      <td>-37.813861</td>\n",
       "      <td>144.962777</td>\n",
       "      <td>Bolleball</td>\n",
       "      <td>SHOP_CLOTHES</td>\n",
       "      <td>SHOP</td>\n",
       "      <td>0.050141</td>\n",
       "    </tr>\n",
       "    <tr>\n",
       "      <th>21416</th>\n",
       "      <td>26</td>\n",
       "      <td>N598404517</td>\n",
       "      <td>-37.814412</td>\n",
       "      <td>144.963554</td>\n",
       "      <td>Red Rooster</td>\n",
       "      <td>FOOD_FASTFOOD</td>\n",
       "      <td>FOOD</td>\n",
       "      <td>0.050199</td>\n",
       "    </tr>\n",
       "    <tr>\n",
       "      <th>21414</th>\n",
       "      <td>80</td>\n",
       "      <td>N598404239</td>\n",
       "      <td>-37.814265</td>\n",
       "      <td>144.963784</td>\n",
       "      <td>Cotton On</td>\n",
       "      <td>SHOP_CLOTHES</td>\n",
       "      <td>SHOP</td>\n",
       "      <td>0.050296</td>\n",
       "    </tr>\n",
       "  </tbody>\n",
       "</table>\n",
       "</div>"
      ],
      "text/plain": [
       "        poi_type_id       poi_id        lat         lng  \\\n",
       "98007            25  N3472659754 -37.813982  144.963292   \n",
       "51100           138  N2162178792 -37.814098  144.963428   \n",
       "104733          168  N3945798969 -37.814174  144.963363   \n",
       "51676           168  N2190619591 -37.813984  144.963064   \n",
       "27202            75   N907778391 -37.813848  144.963106   \n",
       "73700            80  N2776401990 -37.813766  144.963342   \n",
       "53243            88  N2265081590 -37.813921  144.963600   \n",
       "104732          168  N3945798968 -37.814066  144.963633   \n",
       "152016           29  N6344541343 -37.813748  144.963415   \n",
       "29793            80  N1058524474 -37.814320  144.963523   \n",
       "23590            99   N664315209 -37.814360  144.963445   \n",
       "22055            46   N613313406 -37.814137  144.962877   \n",
       "177351          105    W46854371 -37.813619  144.963279   \n",
       "106872           26  N4066101389 -37.813956  144.962814   \n",
       "23581            80   N663937189 -37.814359  144.963559   \n",
       "22056            30   N613315007 -37.814080  144.962813   \n",
       "128202           34  N5130664932 -37.814376  144.963527   \n",
       "53361            80  N2268007249 -37.813861  144.962777   \n",
       "21416            26   N598404517 -37.814412  144.963554   \n",
       "21414            80   N598404239 -37.814265  144.963784   \n",
       "\n",
       "                                            poi_name         poi_subtype  \\\n",
       "98007                          Federal Coffee Palace           FOOD_CAFE   \n",
       "51100                               The Public Purse         TOURIST_ART   \n",
       "104733  Stop 5: Bourke Street Mall, Elizabeth Street  TRANSPORT_TRAMSTOP   \n",
       "51676      Stop 3: Bourke Street Mall, Bourke Street  TRANSPORT_TRAMSTOP   \n",
       "27202                 Elizabeth Street/Bourke Street        SHOP_BICYCLE   \n",
       "73700                                            H&M        SHOP_CLOTHES   \n",
       "53243                                  Flowers @ GPO        SHOP_FLORIST   \n",
       "104732  Stop 5: Bourke Street Mall, Elizabeth Street  TRANSPORT_TRAMSTOP   \n",
       "152016                                     CA de VIN     FOOD_RESTAURANT   \n",
       "29793                                         Bardot        SHOP_CLOTHES   \n",
       "23590                                          Optus          SHOP_PHONE   \n",
       "22055                              Bank of Melbourne          MONEY_BANK   \n",
       "177351                               Melbourne's GPO    SHOP_SUPERMARKET   \n",
       "106872                                       Schnitz       FOOD_FASTFOOD   \n",
       "23581                                    Roger David        SHOP_CLOTHES   \n",
       "22056                          Pacific Smiles Dental      HEALTH_DENTIST   \n",
       "128202                             Chemist Warehouse     HEALTH_PHARMACY   \n",
       "53361                                      Bolleball        SHOP_CLOTHES   \n",
       "21416                                    Red Rooster       FOOD_FASTFOOD   \n",
       "21414                                      Cotton On        SHOP_CLOTHES   \n",
       "\n",
       "         poi_type      dist  \n",
       "98007        FOOD  0.003192  \n",
       "51100     TOURIST  0.014448  \n",
       "104733  TRANSPORT  0.019713  \n",
       "51676   TRANSPORT  0.022567  \n",
       "27202        SHOP  0.025280  \n",
       "73700        SHOP  0.026078  \n",
       "53243        SHOP  0.026118  \n",
       "104732  TRANSPORT  0.028447  \n",
       "152016       FOOD  0.029266  \n",
       "29793        SHOP  0.039743  \n",
       "23590        SHOP  0.041500  \n",
       "22055       MONEY  0.041791  \n",
       "177351       SHOP  0.042563  \n",
       "106872       FOOD  0.044733  \n",
       "23581        SHOP  0.045103  \n",
       "22056      HEALTH  0.045417  \n",
       "128202     HEALTH  0.045637  \n",
       "53361        SHOP  0.050141  \n",
       "21416        FOOD  0.050199  \n",
       "21414        SHOP  0.050296  "
      ]
     },
     "metadata": {},
     "output_type": "display_data"
    }
   ],
   "source": [
    "MELBOURNE = [-37.814, 144.96332]\n",
    "WITHIN = 0.5\n",
    "TOPK = 20\n",
    "\n",
    "neighbors = get_neighbors(cur_loc=MELBOURNE, known_pois=osm_df, within_km=WITHIN, top_k=TOPK)\n",
    "display(neighbors)   "
   ]
  },
  {
   "cell_type": "code",
   "execution_count": 6,
   "metadata": {},
   "outputs": [],
   "source": [
    "import folium\n",
    "from folium.map import Icon\n",
    "\n",
    "color_options = list(Icon.color_options)\n",
    "color_options.remove('black')\n",
    "color_options.reverse()\n",
    "poi_types = neighbors['poi_type'].unique().tolist()\n",
    "if len(poi_types) <= len(color_options):\n",
    "    poi_color = dict(zip(poi_types, color_options[:len(poi_types)]))\n",
    "else:\n",
    "    poi_color = dict(zip(poi_types, ['lightgray'] * len(poi_types)))"
   ]
  },
  {
   "cell_type": "code",
   "execution_count": 7,
   "metadata": {},
   "outputs": [
    {
     "data": {
      "text/html": [
       "<div style=\"width:100%;\"><div style=\"position:relative;width:100%;height:0;padding-bottom:60%;\"><span style=\"color:#565656\">Make this Notebook Trusted to load map: File -> Trust Notebook</span><iframe src=\"about:blank\" style=\"position:absolute;width:100%;height:100%;left:0;top:0;border:none !important;\" data-html=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 onload=\"this.contentDocument.open();this.contentDocument.write(atob(this.getAttribute('data-html')));this.contentDocument.close();\" allowfullscreen webkitallowfullscreen mozallowfullscreen></iframe></div></div>"
      ],
      "text/plain": [
       "<folium.folium.Map at 0x7f390cdfbbd0>"
      ]
     },
     "metadata": {},
     "output_type": "display_data"
    }
   ],
   "source": [
    "# check https://python-visualization.github.io/folium/quickstart.html for more details\n",
    "# project POIs onto a map\n",
    "m = folium.Map(location=MELBOURNE, zoom_start=16)\n",
    "folium.Marker(\n",
    "    width='30%', height='30%',\n",
    "    location=MELBOURNE,\n",
    "    popup='Your Are Here',\n",
    "    icon=folium.Icon(icon='arrow-down', color='black')\n",
    ").add_to(m)\n",
    "\n",
    "folium.Circle(location=MELBOURNE, radius=WITHIN*1000).add_to(m)\n",
    "\n",
    "for lat, lng, pname, ptype in zip(\n",
    "    neighbors['lat'], neighbors['lng'], \n",
    "    neighbors['poi_name'], neighbors['poi_type']\n",
    "):\n",
    "    folium.Marker(\n",
    "        location=[lat, lng], popup='[%s]\\n%s' % (ptype, pname),\n",
    "        icon=folium.Icon(color=poi_color[ptype])\n",
    "    ).add_to(m)\n",
    "\n",
    "display(m)"
   ]
  },
  {
   "cell_type": "code",
   "execution_count": null,
   "metadata": {},
   "outputs": [],
   "source": []
  },
  {
   "cell_type": "code",
   "execution_count": null,
   "metadata": {},
   "outputs": [],
   "source": []
  },
  {
   "cell_type": "markdown",
   "metadata": {},
   "source": [
    "## 5. More Geographic Resources\n",
    "\n",
    "### 5.1 Geo-enhanced Social Media and GeoInfo Websites\n",
    "The following platforms are popular sources for geo-based analysis.\n",
    "- [Flickr](https://www.flickr.com/)\n",
    "- [Google Maps](https://maps.google.com/)\n",
    "- [Twitter](https://twitter.com/)\n",
    "- [Foursquare](https://foursquare.com/)\n",
    "- [Wikimapia](http://wikimapia.org/api/) utilizes an interactive \"clickable\" web map that marks and describes all geographical objects in the world.\n",
    "- [TIXIK](http://www.tixik.com/info/api/) provides information about interesting places around the world, with hundreds of thousands of presentations with pictures and texts in multiple languages.\n",
    "\n",
    "\n",
    "### 5.2 Travel Blogs/Texts\n",
    "The following platforms provide text-based travel information extraction.\n",
    "- [TravelBlog](https://www.travelblog.org/)\n",
    "- [Off Exploring](https://www.offexploring.com/)\n",
    "- [TravelJournal](www.traveljournal.com)\n",
    "- [Official Site for Victoria](http://www.visitvictoria.com/)\n",
    "- [Holidays in Australia](https://www.australia.com/en)\n",
    "- [Yahoo! Travel](https://www.smartertravel.com/author/yahoo-travel/)\n",
    "\n",
    "\n",
    "### 5.3 Boundrary Determination\n",
    "- [OpenStreetMap administrative boundaries in GeoJSON](https://peteris.rocks/blog/openstreetmap-administrative-boundaries-in-geojson/)\n",
    "- [Here’s how to use data from OpenStreetMap for your infographics](http://www.konradlischka.info/en/2015/05/blog-en/heres-how-you-pull-data-from-openstreetmap-for-your-infographics/)\n",
    "- [MapBox OSM Boundaries](https://github.com/mapbox/osm-boundaries)\n",
    "- [Extracting Administrative Boundaries from OpenStreetMap](https://www.mysociety.org/2012/06/23/extracting-administrative-boundaries-from-openstreetmap/)\n",
    "\n",
    "\n",
    "### 5.4 Weather and Season Data\n",
    "- [Weather Underground](https://www.wunderground.com/) finds historical weather by searching for a city, zip code, or airport code.\n",
    "\n",
    "\n",
    "### 5.5 Australia Open Data\n",
    "Below shows some public data released by the Australia government.\n",
    "\n",
    "- [GOV.AU](https://www.gov.au/) offers a listing of websites that lead to many useful resources such as the Victorian Heritage Database.\n",
    "- [Australian Government](https://www.australia.gov.au/) helps find government information and services.\n",
    "- [Victoria's Open Data Directory](https://www.data.vic.gov.au/) finds data that Victorian government departments and agencies have opened and made available to the public. \n",
    "- [Australian Bureau of Statistics](http://www.abs.gov.au/browse?opendocument&ref=topBar) contains statistical data, including tourism and transport.\n",
    "- [Department of Environment, Land, Water and Planning](https://www2.delwp.vic.gov.au/) provides information about Victoria environment and natural resources, including spatial data.\n",
    "- [Parks Victoria](http://parkweb.vic.gov.au/) consists of information about Victoria parks, including spatial data.\n",
    "- [Australian Government Datasets](https://data.gov.au/dataset?tags=Boundaries) provides PSMA administrative boundaries of all states and territories in Australia.\n",
    "    - Geographic coordinates making up polygons for each area.\n",
    "    - Support multiple data formats, including PDF, SHP, WMS, WFS and GeoJSON.\n",
    "- [Bureau of Meteorology](http://www.bom.gov.au/) shows climate statistics in Australia."
   ]
  },
  {
   "cell_type": "markdown",
   "metadata": {},
   "source": [
    "## 6. Geo-related Tools and Libraries\n",
    "\n",
    "### 6.1 Geo Coordinates Clustering\n",
    "- DBSCAN (built in scikit-learn)\n",
    "- P-DBSCAN performs DBSCAN by taking into account onwership of photos.\n",
    "- [CFSFDP](https://pypi.org/project/Dcluster/)\n",
    "    - based on the idea that cluster centers are characterized by a higher density than their neighbors and by a relatively large distance from points with higher densities.\n",
    "    - see [the original paper](http://science.sciencemag.org/content/344/6191/1492) along with [an automatic method for selecting threshold values](https://arxiv.org/abs/1501.04267) for details.\n",
    "- [HDBSCAN](https://github.com/scikit-learn-contrib/hdbscan) performs DBSCAN over varying epsilon values (densities) and finds clusters that gives the best stability over epsilon.\n",
    "\n",
    "\n",
    "### 6.2 Geo Information Retrieval\n",
    "[Geocoder](https://geocoder.readthedocs.io/index.html) is a wrapper obtaining geo-related information from multiple different geocoding providers such as Google, Bing, and OpenStreetMap.\n",
    "\n",
    "\n",
    "### 6.3 Geo Visualization\n",
    "\n",
    "- [Folium](https://github.com/python-visualization/folium) manipulates Python data and then visualizes it via interactive maps with Leaflet.js.\n",
    "- [smopy](https://github.com/rossant/smopy) returns an OpenStreetMap tile image given a bounding box and converts geographical coordinates to pixels.\n",
    "- [WorldWind SDK](https://worldwind.arc.nasa.gov/) allows developers to create interactive visualizations of 3D globe, map and geographical information."
   ]
  },
  {
   "cell_type": "code",
   "execution_count": null,
   "metadata": {},
   "outputs": [],
   "source": []
  },
  {
   "cell_type": "code",
   "execution_count": null,
   "metadata": {},
   "outputs": [],
   "source": []
  },
  {
   "cell_type": "markdown",
   "metadata": {},
   "source": [
    "## \\[Deprecated\\] TripAdvisor\n",
    "\n",
    "<div class=\"alert alert-block alert-warning\">\n",
    "The code in this section is not working any longer as TripAdvisor has changed its website layout. The code is kept as a reference for those who have to collect attraction information from the platform.\n",
    "</div>\n",
    "\n",
    "[TripAdvisor](https://www.tripadvisor.com.au/) provides information and reviews of hotels, restaurants, attractions, flights, and other travel-related content.\n",
    "\n",
    "\n",
    "To start with, you need to go to the following link for Victoria intorduction on TripAdvisor.\n",
    "> https://www.tripadvisor.com.au/Tourism-g255098-Victoria-Vacations.html\n",
    "- in the [Popular Destinations] section, keep pressing the [See more] button until all destinations are loaded.\n",
    "- manually save all destination urls by inspecting page source."
   ]
  },
  {
   "cell_type": "code",
   "execution_count": null,
   "metadata": {},
   "outputs": [],
   "source": [
    "TA_BASE = 'https://www.tripadvisor.com.au'"
   ]
  },
  {
   "cell_type": "code",
   "execution_count": null,
   "metadata": {},
   "outputs": [],
   "source": [
    "def get_id_name(cell):\n",
    "    x = re.search('(?<=Tourism-).+(?=_Victoria)', cell).group(0)\n",
    "    x_id = x[:x.index('-')]\n",
    "    x_name = x[x.index('-')+1:]\n",
    "    return x_id, x_name\n",
    "\n",
    "with open('ta/ta_list.txt') as f:\n",
    "    df = pd.DataFrame({'init_url': f.read().split('\\n')})\n",
    "\n",
    "df['gid'], df['dname'] = zip(*df.init_url.apply(get_id_name))"
   ]
  },
  {
   "cell_type": "markdown",
   "metadata": {},
   "source": [
    "Convert a destination url to its home page address following the pattern ``/Attractions-[DESTINATION_ID]-Activities[PAGE_INDICATOR]-[DESTINATION_NAME]_Victoria.html`` and save the corresponding HTML."
   ]
  },
  {
   "cell_type": "code",
   "execution_count": null,
   "metadata": {},
   "outputs": [],
   "source": [
    "def get_ta_html(url, full_page=False):\n",
    "    # not until we get the page\n",
    "    while (True):\n",
    "        r = requests.get(url)\n",
    "        if r.status_code == 200:\n",
    "            tsoup = BeautifulSoup(r.text, 'lxml')\n",
    "            if not full_page:\n",
    "                tsoup = tsoup.find('div', {'id': 'FILTERED_LIST'})\n",
    "            break\n",
    "    return str(tsoup)"
   ]
  },
  {
   "cell_type": "code",
   "execution_count": null,
   "metadata": {},
   "outputs": [],
   "source": [
    "BASE_URL = TA_BASE + \"/Attractions-%s-Activities%s-%s_Victoria.html\"\n",
    "def gen_att_url(des_id, des_name, page=1):\n",
    "    # page=0 indicates home page\n",
    "    page_idx = '' if page==1 else '-oa'+str(30*(page-1))\n",
    "    return BASE_URL % (des_id, page_idx, des_name)\n",
    "\n",
    "cnt=0\n",
    "tol=df.shape[0]\n",
    "htmls = []\n",
    "for gid, dname in zip(df.gid, df.dname):\n",
    "    cnt+=1\n",
    "    print('fetching... %d/%d' % (cnt, tol), end='\\r')\n",
    "    hurl = gen_att_url(gid, dname)\n",
    "    txt = get_ta_html(hurl)\n",
    "    htmls.append(txt)\n",
    "df['html'] = htmls"
   ]
  },
  {
   "cell_type": "markdown",
   "metadata": {},
   "source": [
    "For each destination, check how many pages it has and save the HTML of all other pages where possible."
   ]
  },
  {
   "cell_type": "code",
   "execution_count": null,
   "metadata": {},
   "outputs": [],
   "source": [
    "def extract_page_num(cell):\n",
    "    soup = BeautifulSoup(cell, 'lxml')\n",
    "    psoup = soup.find('div', {'class': 'pagination'})\n",
    "    num_page = 1\n",
    "    if psoup is not None:\n",
    "        num_page = psoup.find_all('a')[-1]['data-page-number']\n",
    "    return int(num_page)\n",
    "\n",
    "df['num_page'] = df.html.apply(extract_page_num)\n",
    "\n",
    "cnt=0\n",
    "tol=df.shape[0]\n",
    "rest_htmls = []\n",
    "for did, dname, num_page in zip(df.did, df.dname, df.num_page):\n",
    "    cnt+=1\n",
    "    pages=[]\n",
    "    for i in range(2, num_page+1):\n",
    "        print('fetching... %d/%d, page=%d' % (cnt, tol, i), end='\\r')\n",
    "        hurl = gen_att_url(did, dname, i)\n",
    "        txt = get_ta_html(hurl)\n",
    "        pages.append(txt)\n",
    "    rest_htmls.append(str(pages))\n",
    "    \n",
    "df['rest_htmls'] = rest_htmls"
   ]
  },
  {
   "cell_type": "markdown",
   "metadata": {},
   "source": [
    "When searching for popular spots in a destination, TripAdvisor returns both attractions physically within the destination and those close enough to (but outside) the destination.\n",
    "There are two types of attractions:\n",
    "- **Individual spots**: each record is one spot\n",
    "- **Spot groups**: each record is a group that contains a list of spots separated in pages"
   ]
  },
  {
   "cell_type": "code",
   "execution_count": null,
   "metadata": {
    "scrolled": false
   },
   "outputs": [],
   "source": [
    "spot_pool = {}\n",
    "    \n",
    "def get_spots(cell):\n",
    "    def single_spots(cell):\n",
    "        res = []\n",
    "        soup = BeautifulSoup(cell, 'lxml')\n",
    "        for asoup in soup.find_all('div', {\n",
    "            'class': 'attraction_element'\n",
    "        }):\n",
    "            within = True if asoup.find('var') is None else False\n",
    "            url = asoup.find('div', {'class': 'listing_title'})\n",
    "            url = url.find('a')['href']\n",
    "            sid = re.search('d\\d+', url).group(0)\n",
    "            spot_pool[sid] = url\n",
    "            res.append((within, sid))\n",
    "        return res\n",
    "\n",
    "    def spot_groups(cell):\n",
    "        res = []\n",
    "        soup = BeautifulSoup(cell, 'lxml')\n",
    "        for gsoup in soup.find_all('div', {\n",
    "            'class': 'attraction_type_group'\n",
    "        }):\n",
    "            url = gsoup.find('div', {\n",
    "                'class': 'listing_title'\n",
    "            }).find('a')\n",
    "            title = url.text\n",
    "            title = title[:title.index('(')].strip()\n",
    "            url = TA_BASE + url['href']\n",
    "            txt = get_ta_html(url)\n",
    "            tmp_res = single_spots(txt)\n",
    "            p_num = extract_page_num(txt)\n",
    "            if p_num>1:\n",
    "                pos = url.rindex('-')\n",
    "                for i in range(2, p_num+1):\n",
    "                    hurl = url[:pos]+'-oa'+str(30*(i-1))+url[pos:]\n",
    "                    htxt = get_ta_html(hurl)\n",
    "                    tmp_res.extend(single_spots(htxt))\n",
    "            res.append((title, tmp_res))\n",
    "        return res\n",
    "\n",
    "    return single_spots(cell), spot_groups(cell)"
   ]
  },
  {
   "cell_type": "code",
   "execution_count": null,
   "metadata": {},
   "outputs": [],
   "source": [
    "# The encoding scheme (Python dict object)\n",
    "# - 'single'\n",
    "#     - single_list=[(w_flag, spot_url), ...]\n",
    "#     - *w_flag* indicates whether a spot is physically in current destination\n",
    "# - 'group'\n",
    "#     - group_list=[(group_type, single_list), ...]\n",
    "\n",
    "spots=[]\n",
    "cnt=0\n",
    "tol = df.shape[0]\n",
    "for first_page, rest_pages in zip(df.html, df.rest_htmls):\n",
    "    cnt+=1\n",
    "    print('%d / %d ...' % (cnt, tol), end='\\r')\n",
    "    pages = ast.literal_eval(rest_pages)\n",
    "    pages.append(first_page)\n",
    "    single_list = []\n",
    "    group_list = []\n",
    "    for page in pages:\n",
    "        single_items, group_items = get_spots(page)\n",
    "        single_list.extend(single_items)\n",
    "        group_list.extend(group_items)\n",
    "    spots.append({'single': single_list, 'group': group_list})\n",
    "df['spots']=spots\n",
    "\n",
    "df.to_csv('ta/ta_base.csv', header=True, index=False)\n",
    "with open('ta/spot_pool.txt', 'w') as f:\n",
    "    f.write(str(spot_pool))"
   ]
  },
  {
   "cell_type": "markdown",
   "metadata": {},
   "source": [
    "Pool all unique spots and save the HTML of each individual's home page."
   ]
  },
  {
   "cell_type": "code",
   "execution_count": null,
   "metadata": {},
   "outputs": [],
   "source": [
    "df = pd.read_csv('ta/ta_base.csv')\n",
    "with open('ta/spot_pool.txt', 'r') as f:\n",
    "    spot_pool = f.read()\n",
    "spot_pool = ast.literal_eval(spot_pool)"
   ]
  },
  {
   "cell_type": "code",
   "execution_count": null,
   "metadata": {
    "scrolled": true
   },
   "outputs": [],
   "source": [
    "def update_pool(c, records):\n",
    "    c.executemany('''INSERT INTO pool VALUES (?, ?)''', records)\n",
    "    conn.commit()\n",
    "\n",
    "# init the pool db\n",
    "conn = sqlite3.connect('ta/spot_html_pool.db')\n",
    "c = conn.cursor()\n",
    "c.execute('''CREATE TABLE IF NOT EXISTS \n",
    "            pool (id TEXT, html TEXT)''')\n",
    "\n",
    "#  add records\n",
    "cnt=0\n",
    "tol = len(spot_pool)\n",
    "spot_htmls = []\n",
    "for spot_id, spot_url in spot_pool.items():\n",
    "    cnt+=1\n",
    "    print('%d / %d ...' % (cnt, tol), end='\\r')\n",
    "    html_txt = get_ta_html(TA_BASE + spot_url, full_page=True)\n",
    "    spot_htmls.append((spot_id, html_txt))\n",
    "    if cnt % 100 == 0:\n",
    "        update_pool(c, spot_htmls)\n",
    "        spot_htmls = []\n",
    "update_pool(c, spot_htmls)\n",
    "c = None\n",
    "conn.close()"
   ]
  },
  {
   "cell_type": "markdown",
   "metadata": {},
   "source": [
    "1. Extract representative attributes from the HTML pool.\n",
    "1. Keep only spots physically within a destinations.\n",
    "1. Map an attraction to its attibutes via spot ID."
   ]
  },
  {
   "cell_type": "code",
   "execution_count": null,
   "metadata": {
    "scrolled": true
   },
   "outputs": [],
   "source": [
    "def get_within_spots(cell):\n",
    "    def get_true(l):\n",
    "        return [sid for w_flag, sid in l if w_flag]\n",
    "        \n",
    "    cell = ast.literal_eval(cell)\n",
    "    single_spots = get_true(cell['single'])\n",
    "    group_spots = [\n",
    "        (title, get_true(one_group))\n",
    "        for title, one_group in cell['group']\n",
    "    ]\n",
    "    return {'single': single_spots, 'group': group_spots}\n",
    "\n",
    "tdf = df[['gid', 'dname', 'spots']].copy()\n",
    "tdf.spots = tdf.spots.apply(get_within_spots)"
   ]
  },
  {
   "cell_type": "code",
   "execution_count": null,
   "metadata": {
    "scrolled": false
   },
   "outputs": [],
   "source": [
    "def get_spot_attrs(sid):\n",
    "    cell = c.execute('''\n",
    "        SELECT html FROM pool WHERE id=? LIMIT 1;\n",
    "    ''', (sid,)).fetchone()[0]\n",
    "    soup = BeautifulSoup(cell, 'lxml')\n",
    "    title = soup.find('h1', {'id': 'HEADING'}).text.strip()\n",
    "    region = soup.find(\n",
    "        'div', {'class': 'ppr_priv_global_nav_geopill'\n",
    "    }).text.strip()\n",
    "    try:\n",
    "        num = soup.find('a', {'class': 'more'}).text.strip()\n",
    "        num = num[:num.index(' ')]\n",
    "        num = int(str(num).replace(',', ''))\n",
    "    except:\n",
    "        num = 0\n",
    "    try:\n",
    "        cates = [a.text.strip() for a in soup.find(\n",
    "            'span', {'class': 'attraction_details'}\n",
    "        ).find_all('a')]\n",
    "    except:\n",
    "        cates= []\n",
    "    addr = soup.find(\n",
    "            'div', {'class': 'address'}\n",
    "        ).text.replace('|', '').strip()\n",
    "    for sc in soup.find_all('script'):\n",
    "        sc = str(sc)\n",
    "        if 'lng: ' not in sc:\n",
    "            continue\n",
    "        lat = re.search('(?<=lat: )[-]?\\d+\\.\\d+(?=,)', sc).group(0)\n",
    "        lng = re.search('(?<=lng: )[-]?\\d+\\.\\d+(?=,)', sc).group(0)\n",
    "        loc_id = re.search('(?<=locId: )\\d+(?=,)', sc).group(0)\n",
    "        geo_id = re.search('(?<=geoId: )\\d+(?=,)', sc).group(0)\n",
    "        break\n",
    "    return title, region, cates, addr, lat, lng, loc_id, geo_id, num"
   ]
  },
  {
   "cell_type": "code",
   "execution_count": null,
   "metadata": {},
   "outputs": [],
   "source": [
    "conn = sqlite3.connect('ta/spot_html_pool.db')\n",
    "c = conn.cursor()\n",
    "sdf = pd.read_sql_query('''SELECT id FROM pool;''', conn)\n",
    "\n",
    "cnt=0\n",
    "tol = sdf.shape[0]\n",
    "attrs = []\n",
    "for sid in sdf.id:\n",
    "    cnt+=1\n",
    "    print('%d / %d' % (cnt, tol), end='\\r')\n",
    "    attrs.append(get_spot_attrs(sid))\n",
    "    \n",
    "c = None\n",
    "conn.close()\n",
    "\n",
    "sdf = sdf.join(\n",
    "    pd.DataFrame(attrs, columns = [\n",
    "        'name', 'region', 'cates', \n",
    "        'addr', 'lat', 'lng', 'loc_id', \n",
    "        'geo_id', 'num_review'\n",
    "    ])\n",
    ")"
   ]
  },
  {
   "cell_type": "markdown",
   "metadata": {},
   "source": [
    "Assign single/group tags to each spot:\n",
    "- A single tag (default: *False*) marks whether the spot is stated as a single spot.\n",
    "- A group tag (default: *\\[\\]*) includes all names of group the spot is involved in."
   ]
  },
  {
   "cell_type": "code",
   "execution_count": null,
   "metadata": {
    "scrolled": false
   },
   "outputs": [],
   "source": [
    "# The encoding scheme: (single_tag: boolean, double_tags: list)\n",
    "\n",
    "sdf.shape\n",
    "mdict = {sid: (False, []) for sid in sdf.id}\n",
    "for destination in tdf.spots:\n",
    "    # update single\n",
    "    for spot_id in destination['single']:\n",
    "        smark, gmarks = mdict[spot_id]\n",
    "        smark = True\n",
    "        mdict[spot_id] = (smark, gmarks)\n",
    "    \n",
    "    # update group\n",
    "    for cate, spot_ids in destination['group']:\n",
    "        for spot_id in spot_ids:\n",
    "            smark, gmarks = mdict[spot_id]\n",
    "            gmarks.append(cate)\n",
    "            mdict[spot_id] = (smark, gmarks)"
   ]
  },
  {
   "cell_type": "markdown",
   "metadata": {},
   "source": [
    "Set single/group tags to each spot and export the POIs."
   ]
  },
  {
   "cell_type": "code",
   "execution_count": null,
   "metadata": {},
   "outputs": [],
   "source": [
    "# - (True, []) means a spot exists only as an individual spot;\n",
    "# - (False, [...]) means a spot only shows up in group activitie(s);\n",
    "# - (True, [...]) means a spot serving both purposes;\n",
    "# - (False, []) indicates a spot appearing only in nearby destination(s) rather than its physical one.\n",
    "#     - this could happen since TripAdvisor returns inconsistent results on the same destination and same page. \n",
    "#     - I suspect this may be a stretagy to protect data from crawling. \n",
    "\n",
    "def set_marks(cell):\n",
    "    smark, gmarks = mdict[cell]\n",
    "    return smark, str(gmarks)\n",
    "\n",
    "sdf['smark'], sdf['gmarks'] = zip(*sdf.id.apply(set_marks))\n",
    "# sdf[(sdf.smark==False) & (sdf.gmarks=='[]')]\n",
    "\n",
    "sdf.to_csv('ta/ta_pois.csv', header=True, index=False)"
   ]
  },
  {
   "cell_type": "markdown",
   "metadata": {},
   "source": [
    "Below shows an instance."
   ]
  },
  {
   "cell_type": "code",
   "execution_count": null,
   "metadata": {
    "scrolled": false
   },
   "outputs": [],
   "source": [
    "sdf = pd.read_csv('ta/ta_pois.csv')\n",
    "sdf.shape\n",
    "sdf.head(1)"
   ]
  },
  {
   "cell_type": "code",
   "execution_count": null,
   "metadata": {},
   "outputs": [],
   "source": []
  },
  {
   "cell_type": "code",
   "execution_count": null,
   "metadata": {},
   "outputs": [],
   "source": []
  }
 ],
 "metadata": {
  "kernelspec": {
   "display_name": "Python 3",
   "language": "python",
   "name": "python3"
  },
  "language_info": {
   "codemirror_mode": {
    "name": "ipython",
    "version": 3
   },
   "file_extension": ".py",
   "mimetype": "text/x-python",
   "name": "python",
   "nbconvert_exporter": "python",
   "pygments_lexer": "ipython3",
   "version": "3.7.7"
  },
  "toc": {
   "base_numbering": 1,
   "nav_menu": {
    "height": "30px",
    "width": "252px"
   },
   "number_sections": true,
   "sideBar": true,
   "skip_h1_title": true,
   "title_cell": "Table of Contents",
   "title_sidebar": "Contents",
   "toc_cell": false,
   "toc_position": {
    "height": "1513px",
    "left": "0px",
    "right": "821.278px",
    "top": "105.994px",
    "width": "161px"
   },
   "toc_section_display": "block",
   "toc_window_display": true
  }
 },
 "nbformat": 4,
 "nbformat_minor": 2
}
